{
 "cells": [
  {
   "cell_type": "code",
   "execution_count": 2,
   "id": "3466de74-8935-4a02-ab70-bcecbfaa89d1",
   "metadata": {},
   "outputs": [],
   "source": [
    "import pandas as pd\n",
    "import numpy as np\n",
    "import glob\n",
    "import seaborn as sns\n",
    "import matplotlib.pyplot as plt\n",
    "from scipy.spatial.distance import euclidean\n",
    "from fastdtw import fastdtw\n",
    "from concurrent.futures import ProcessPoolExecutor\n",
    "import warnings\n",
    "import tqdm\n",
    "warnings.filterwarnings('ignore')"
   ]
  },
  {
   "cell_type": "code",
   "execution_count": 2,
   "id": "ac71a42a-afe3-49c3-9077-0e7a086c47dc",
   "metadata": {},
   "outputs": [],
   "source": [
    "# Setting the default figure parameters to de-frame the upper x-axis, left y-axis, and right y-axis\n",
    "plt.rcParams['axes.spines.top'] = False\n",
    "plt.rcParams['axes.spines.left'] = False\n",
    "plt.rcParams['axes.spines.right'] = False\n",
    "plt.rcParams['ytick.left'] = False\n",
    "plt.rcParams['axes.grid'] = True  # Ensure grid lines are enabled\n",
    "plt.rcParams['axes.grid.which'] = 'major'  # Apply grid lines only to major ticks\n",
    "plt.rcParams['axes.grid.axis'] = 'y'  # Only show horizontal grid lines\n",
    "plt.rcParams['grid.linestyle'] = '--'  # Set grid line style to dashed\n",
    "plt.rcParams['grid.alpha'] = 0.3  # Set grid line transparency"
   ]
  },
  {
   "cell_type": "code",
   "execution_count": 3,
   "id": "9367e64b-9486-4f59-a004-e87097902810",
   "metadata": {},
   "outputs": [],
   "source": [
    "control_df_sel=pd.read_csv('../data/control_df_sel_gender_0609.csv')\n",
    "journals_merged_sel=pd.read_csv('../data/journals_merged_sel_gender_0609.csv')"
   ]
  },
  {
   "cell_type": "code",
   "execution_count": 4,
   "id": "38dde11a-2382-4dab-9284-cb18fe0d21c5",
   "metadata": {},
   "outputs": [],
   "source": [
    "journal_filtered_sel=journals_merged_sel[journals_merged_sel.journal_id=='jour.1346339'] # this is Science\n",
    "journal_filtered_sel = journal_filtered_sel[journal_filtered_sel['first_publish_year'] % 5 == 0]"
   ]
  },
  {
   "cell_type": "code",
   "execution_count": 5,
   "id": "d2f4d7a4-e5b3-4b4d-bf99-357b63737335",
   "metadata": {},
   "outputs": [
    {
     "data": {
      "text/plain": [
       "Index(['author_id', 'year', 'publication_count', 'corresponding_count',\n",
       "       'first_year', 'career_age', 'total_citations', 'funding_count',\n",
       "       'average_funding', 'cum_publication_count', 'cum_corresponding_count',\n",
       "       'cum_total_citations', 'cum_funding_count', 'cum_average_funding',\n",
       "       'career_stage', 'author_first_name', 'author_last_name', 'journal_id',\n",
       "       'journal_title', 'first_publish_year', 'to_year', 'id', 'Gender',\n",
       "       'researcher_id', 'affiliation_country_codes'],\n",
       "      dtype='object')"
      ]
     },
     "execution_count": 5,
     "metadata": {},
     "output_type": "execute_result"
    }
   ],
   "source": [
    "journal_filtered_sel.columns"
   ]
  },
  {
   "cell_type": "code",
   "execution_count": 6,
   "id": "7604e87d-4898-48cc-83bf-69d90095c04f",
   "metadata": {},
   "outputs": [
    {
     "data": {
      "text/html": [
       "<div>\n",
       "<style scoped>\n",
       "    .dataframe tbody tr th:only-of-type {\n",
       "        vertical-align: middle;\n",
       "    }\n",
       "\n",
       "    .dataframe tbody tr th {\n",
       "        vertical-align: top;\n",
       "    }\n",
       "\n",
       "    .dataframe thead th {\n",
       "        text-align: right;\n",
       "    }\n",
       "</style>\n",
       "<table border=\"1\" class=\"dataframe\">\n",
       "  <thead>\n",
       "    <tr style=\"text-align: right;\">\n",
       "      <th></th>\n",
       "      <th>author_id</th>\n",
       "      <th>year</th>\n",
       "      <th>publication_count</th>\n",
       "      <th>corresponding_count</th>\n",
       "      <th>first_year</th>\n",
       "      <th>career_age</th>\n",
       "      <th>total_citations</th>\n",
       "      <th>funding_count</th>\n",
       "      <th>average_funding</th>\n",
       "      <th>cum_publication_count</th>\n",
       "      <th>...</th>\n",
       "      <th>author_first_name</th>\n",
       "      <th>author_last_name</th>\n",
       "      <th>journal_id</th>\n",
       "      <th>journal_title</th>\n",
       "      <th>first_publish_year</th>\n",
       "      <th>to_year</th>\n",
       "      <th>id</th>\n",
       "      <th>Gender</th>\n",
       "      <th>researcher_id</th>\n",
       "      <th>affiliation_country_codes</th>\n",
       "    </tr>\n",
       "  </thead>\n",
       "  <tbody>\n",
       "    <tr>\n",
       "      <th>1755</th>\n",
       "      <td>ur.010000144736.26</td>\n",
       "      <td>1992</td>\n",
       "      <td>1.0</td>\n",
       "      <td>0.0</td>\n",
       "      <td>1992</td>\n",
       "      <td>0</td>\n",
       "      <td>0.0</td>\n",
       "      <td>0.0</td>\n",
       "      <td>0.0</td>\n",
       "      <td>1.0</td>\n",
       "      <td>...</td>\n",
       "      <td>Norman</td>\n",
       "      <td>Loeb</td>\n",
       "      <td>jour.1346339</td>\n",
       "      <td>Science</td>\n",
       "      <td>2005</td>\n",
       "      <td>-13</td>\n",
       "      <td>ur.010000144736.26</td>\n",
       "      <td>0</td>\n",
       "      <td>ur.010000144736.26</td>\n",
       "      <td>CA</td>\n",
       "    </tr>\n",
       "    <tr>\n",
       "      <th>1756</th>\n",
       "      <td>ur.010000144736.26</td>\n",
       "      <td>1993</td>\n",
       "      <td>0.0</td>\n",
       "      <td>0.0</td>\n",
       "      <td>1992</td>\n",
       "      <td>1</td>\n",
       "      <td>0.0</td>\n",
       "      <td>0.0</td>\n",
       "      <td>0.0</td>\n",
       "      <td>1.0</td>\n",
       "      <td>...</td>\n",
       "      <td>Norman</td>\n",
       "      <td>Loeb</td>\n",
       "      <td>jour.1346339</td>\n",
       "      <td>Science</td>\n",
       "      <td>2005</td>\n",
       "      <td>-12</td>\n",
       "      <td>ur.010000144736.26</td>\n",
       "      <td>0</td>\n",
       "      <td>ur.010000144736.26</td>\n",
       "      <td>CA</td>\n",
       "    </tr>\n",
       "    <tr>\n",
       "      <th>1757</th>\n",
       "      <td>ur.010000144736.26</td>\n",
       "      <td>1994</td>\n",
       "      <td>0.0</td>\n",
       "      <td>0.0</td>\n",
       "      <td>1992</td>\n",
       "      <td>2</td>\n",
       "      <td>0.0</td>\n",
       "      <td>0.0</td>\n",
       "      <td>0.0</td>\n",
       "      <td>1.0</td>\n",
       "      <td>...</td>\n",
       "      <td>Norman</td>\n",
       "      <td>Loeb</td>\n",
       "      <td>jour.1346339</td>\n",
       "      <td>Science</td>\n",
       "      <td>2005</td>\n",
       "      <td>-11</td>\n",
       "      <td>ur.010000144736.26</td>\n",
       "      <td>0</td>\n",
       "      <td>ur.010000144736.26</td>\n",
       "      <td>CA</td>\n",
       "    </tr>\n",
       "    <tr>\n",
       "      <th>1758</th>\n",
       "      <td>ur.010000144736.26</td>\n",
       "      <td>1995</td>\n",
       "      <td>0.0</td>\n",
       "      <td>0.0</td>\n",
       "      <td>1992</td>\n",
       "      <td>3</td>\n",
       "      <td>0.0</td>\n",
       "      <td>0.0</td>\n",
       "      <td>0.0</td>\n",
       "      <td>1.0</td>\n",
       "      <td>...</td>\n",
       "      <td>Norman</td>\n",
       "      <td>Loeb</td>\n",
       "      <td>jour.1346339</td>\n",
       "      <td>Science</td>\n",
       "      <td>2005</td>\n",
       "      <td>-10</td>\n",
       "      <td>ur.010000144736.26</td>\n",
       "      <td>0</td>\n",
       "      <td>ur.010000144736.26</td>\n",
       "      <td>CA</td>\n",
       "    </tr>\n",
       "    <tr>\n",
       "      <th>1759</th>\n",
       "      <td>ur.010000144736.26</td>\n",
       "      <td>1996</td>\n",
       "      <td>1.0</td>\n",
       "      <td>0.0</td>\n",
       "      <td>1992</td>\n",
       "      <td>4</td>\n",
       "      <td>1.0</td>\n",
       "      <td>0.0</td>\n",
       "      <td>0.0</td>\n",
       "      <td>2.0</td>\n",
       "      <td>...</td>\n",
       "      <td>Norman</td>\n",
       "      <td>Loeb</td>\n",
       "      <td>jour.1346339</td>\n",
       "      <td>Science</td>\n",
       "      <td>2005</td>\n",
       "      <td>-9</td>\n",
       "      <td>ur.010000144736.26</td>\n",
       "      <td>0</td>\n",
       "      <td>ur.010000144736.26</td>\n",
       "      <td>CA</td>\n",
       "    </tr>\n",
       "  </tbody>\n",
       "</table>\n",
       "<p>5 rows × 25 columns</p>\n",
       "</div>"
      ],
      "text/plain": [
       "               author_id  year  publication_count  corresponding_count  \\\n",
       "1755  ur.010000144736.26  1992                1.0                  0.0   \n",
       "1756  ur.010000144736.26  1993                0.0                  0.0   \n",
       "1757  ur.010000144736.26  1994                0.0                  0.0   \n",
       "1758  ur.010000144736.26  1995                0.0                  0.0   \n",
       "1759  ur.010000144736.26  1996                1.0                  0.0   \n",
       "\n",
       "      first_year  career_age  total_citations  funding_count  average_funding  \\\n",
       "1755        1992           0              0.0            0.0              0.0   \n",
       "1756        1992           1              0.0            0.0              0.0   \n",
       "1757        1992           2              0.0            0.0              0.0   \n",
       "1758        1992           3              0.0            0.0              0.0   \n",
       "1759        1992           4              1.0            0.0              0.0   \n",
       "\n",
       "      cum_publication_count  ...  author_first_name  author_last_name  \\\n",
       "1755                    1.0  ...             Norman              Loeb   \n",
       "1756                    1.0  ...             Norman              Loeb   \n",
       "1757                    1.0  ...             Norman              Loeb   \n",
       "1758                    1.0  ...             Norman              Loeb   \n",
       "1759                    2.0  ...             Norman              Loeb   \n",
       "\n",
       "        journal_id  journal_title first_publish_year to_year  \\\n",
       "1755  jour.1346339        Science               2005     -13   \n",
       "1756  jour.1346339        Science               2005     -12   \n",
       "1757  jour.1346339        Science               2005     -11   \n",
       "1758  jour.1346339        Science               2005     -10   \n",
       "1759  jour.1346339        Science               2005      -9   \n",
       "\n",
       "                      id Gender       researcher_id  affiliation_country_codes  \n",
       "1755  ur.010000144736.26      0  ur.010000144736.26                         CA  \n",
       "1756  ur.010000144736.26      0  ur.010000144736.26                         CA  \n",
       "1757  ur.010000144736.26      0  ur.010000144736.26                         CA  \n",
       "1758  ur.010000144736.26      0  ur.010000144736.26                         CA  \n",
       "1759  ur.010000144736.26      0  ur.010000144736.26                         CA  \n",
       "\n",
       "[5 rows x 25 columns]"
      ]
     },
     "execution_count": 6,
     "metadata": {},
     "output_type": "execute_result"
    }
   ],
   "source": [
    "journal_filtered_sel.head()"
   ]
  },
  {
   "cell_type": "code",
   "execution_count": 7,
   "id": "c724a1d9-bac2-4451-b089-e45aa3535a2f",
   "metadata": {},
   "outputs": [],
   "source": [
    "nature=journals_merged_sel[journals_merged_sel.journal_id=='jour.1346339']"
   ]
  },
  {
   "cell_type": "code",
   "execution_count": 8,
   "id": "ddcdd854-5387-4fbb-a643-d80e6e70ffb9",
   "metadata": {},
   "outputs": [
    {
     "data": {
      "text/plain": [
       "(1029670, 25)"
      ]
     },
     "execution_count": 8,
     "metadata": {},
     "output_type": "execute_result"
    }
   ],
   "source": [
    "nature.shape"
   ]
  },
  {
   "cell_type": "code",
   "execution_count": 9,
   "id": "73c026f1-499f-45e1-8e8d-16a3f550ab60",
   "metadata": {},
   "outputs": [],
   "source": [
    "def filter_authors_by_publication_window(df, year_col, first_publish_year_col):\n",
    "    df['to_year'] = df[year_col] - df[first_publish_year_col]\n",
    "    valid_authors = df.groupby(['author_id','first_publish_year']).filter(lambda x: (x['to_year'].min() <= -5) and (x['to_year'].max() >= 10))['author_id'].unique()\n",
    "    filtered_df = df[df['author_id'].isin(valid_authors)]\n",
    "    final_filtered_df = filtered_df[(filtered_df['to_year'] >= -5) & (filtered_df['to_year'] <= 10)]    \n",
    "    return final_filtered_df\n",
    "journal_filtered_sel = filter_authors_by_publication_window(journal_filtered_sel,'year','first_publish_year')"
   ]
  },
  {
   "cell_type": "code",
   "execution_count": 10,
   "id": "a02139f2-ccfe-4265-9ba4-9ebaa7733d7b",
   "metadata": {},
   "outputs": [],
   "source": [
    "valid_author_ids = control_df_sel[control_df_sel['career_age'] >= 15]['author_id'].unique()\n",
    "control_df_sel = control_df_sel[control_df_sel['author_id'].isin(valid_author_ids)]\n",
    "\n",
    "control_df_sel=control_df_sel[['author_id','cum_publication_count', 'cum_corresponding_count',\n",
    "       'cum_total_citations', 'cum_funding_count','career_stage','first_year','year','Gender','affiliation_country_codes']]"
   ]
  },
  {
   "cell_type": "code",
   "execution_count": 11,
   "id": "57d40d7d-4b97-4746-b317-f10ed107896a",
   "metadata": {},
   "outputs": [],
   "source": [
    "def calculate_distance(series1, series2):\n",
    "    distance, _ = fastdtw(series1, series2, dist=euclidean)\n",
    "    return distance\n",
    "def find_matches(treated_group, control_df, num_matches=3):\n",
    "    matched_control = pd.DataFrame()\n",
    "    i=0\n",
    "    for author_id, group in treated_group.groupby(['author_id','first_publish_year']):\n",
    "        author_distances = {}\n",
    "        potential_matches = control_df[\n",
    "            (control_df['first_year'] == group.iloc[0]['first_year'])&(control_df['Gender'] == group.iloc[0]['Gender'])&(\n",
    "                control_df['affiliation_country_codes'] == group.iloc[0]['affiliation_country_codes'])\n",
    "        ]\n",
    "        potential_authors = potential_matches[potential_matches.year==group.iloc[0][\n",
    "            'first_publish_year']]['author_id']\n",
    "        potential_matches = potential_matches[potential_matches.author_id.isin(potential_authors)]\n",
    "        potential_matches['first_publish_year'] = group.iloc[0]['first_publish_year']\n",
    "        #potential_matches['to_year']=potential_matches['year']-potential_matches['first_publish_year']\n",
    "        potential_matches=filter_authors_by_publication_window(potential_matches,'year','first_publish_year')\n",
    "        control_dis = potential_matches[potential_matches['to_year'] < 0]\n",
    "\n",
    "        for author_id_potential, group_potential in control_dis.groupby('author_id'):\n",
    "            distance_cum_prod = calculate_distance(group['cum_publication_count'].to_numpy(), group_potential['cum_publication_count'].to_numpy())\n",
    "            distance_cum_cor = calculate_distance(group['cum_corresponding_count'].to_numpy(), group_potential['cum_corresponding_count'].to_numpy())\n",
    "            distance_cum_cit = calculate_distance(group['cum_total_citations'].to_numpy(), group_potential['cum_total_citations'].to_numpy())\n",
    "            distance_cum_fund = calculate_distance(group['cum_funding_count'].to_numpy(), group_potential['cum_funding_count'].to_numpy())\n",
    "            #distance_avg_fund = calculate_distance(group['F'], group_potential['F'])\n",
    "            distance = distance_cum_prod + distance_cum_cor + distance_cum_cit + distance_cum_fund\n",
    "            author_distances[author_id_potential] = distance\n",
    "        closest_matches_ids = sorted(author_distances, key=author_distances.get)[:num_matches]\n",
    "        closest_matches = potential_matches[potential_matches['author_id'].isin(closest_matches_ids)]\n",
    "        matched_control = pd.concat([matched_control, closest_matches])\n",
    "        if i%100 == 0:\n",
    "            print('Successfully done ' + str(i) +' times')\n",
    "        i = i + 1\n",
    "    return matched_control.reset_index(drop=True)"
   ]
  },
  {
   "cell_type": "code",
   "execution_count": 12,
   "id": "792a6e68-89a5-4168-9fd0-ba02488c193f",
   "metadata": {},
   "outputs": [
    {
     "data": {
      "text/plain": [
       "2407"
      ]
     },
     "execution_count": 12,
     "metadata": {},
     "output_type": "execute_result"
    }
   ],
   "source": [
    "len(set(journal_filtered_sel.author_id))"
   ]
  },
  {
   "cell_type": "code",
   "execution_count": 13,
   "id": "b46bef8a-d00c-4ca0-9c48-c3a7187a6ea5",
   "metadata": {},
   "outputs": [
    {
     "name": "stdout",
     "output_type": "stream",
     "text": [
      "Successfully done 0 times\n",
      "Successfully done 100 times\n",
      "Successfully done 200 times\n",
      "Successfully done 300 times\n",
      "Successfully done 400 times\n",
      "Successfully done 500 times\n",
      "Successfully done 600 times\n",
      "Successfully done 700 times\n",
      "Successfully done 800 times\n",
      "Successfully done 900 times\n",
      "Successfully done 1000 times\n",
      "Successfully done 1100 times\n",
      "Successfully done 1200 times\n",
      "Successfully done 1300 times\n",
      "Successfully done 1400 times\n",
      "Successfully done 1500 times\n",
      "Successfully done 1600 times\n",
      "Successfully done 1700 times\n",
      "Successfully done 1800 times\n",
      "Successfully done 1900 times\n",
      "Successfully done 2000 times\n",
      "Successfully done 2100 times\n",
      "Successfully done 2200 times\n",
      "Successfully done 2300 times\n",
      "Successfully done 2400 times\n",
      "Successfully done 2500 times\n"
     ]
    }
   ],
   "source": [
    "journal_filtered_sel=filter_authors_by_publication_window(journal_filtered_sel,'year','first_publish_year')\n",
    "treated_group_journal_sel = journal_filtered_sel[journal_filtered_sel.to_year<0]\n",
    "matched_control_journal_sel = find_matches(treated_group_journal_sel, control_df_sel)"
   ]
  },
  {
   "cell_type": "code",
   "execution_count": 14,
   "id": "a6144d87-64f4-4ad0-aa8b-1e296a4cfa3f",
   "metadata": {},
   "outputs": [],
   "source": [
    "treated_group_journal_sel.to_csv('../data/treated_group_science_decade_gender_5y.csv',header=True,index=False)\n",
    "matched_control_journal_sel.to_csv('../data/matched_control_science_decade_gender_5y.csv',header=True,index=False)"
   ]
  },
  {
   "cell_type": "code",
   "execution_count": 15,
   "id": "a6c6e50a-1aa1-4741-ab80-354cd26872bf",
   "metadata": {},
   "outputs": [],
   "source": [
    "def filter_authors_by_publication_window_updated(df, year_col, first_publish_year_col):\n",
    "    df['to_year'] = df[year_col] - df[first_publish_year_col]\n",
    "    df['author_year_id'] = df['author_id'].astype(str) + \"_\" + df[first_publish_year_col].astype(str)\n",
    "    valid_author_year_ids = df.groupby('author_year_id').filter(lambda x: (x['to_year'].min() <= -5) and (x['to_year'].max() >= 10))['author_year_id'].unique()\n",
    "    # Filter the original DataFrame to only include rows with valid author_year_id combinations\n",
    "    filtered_df = df[df['author_year_id'].isin(valid_author_year_ids)]\n",
    "    final_filtered_df = filtered_df[(filtered_df['to_year'] >= -5) & (filtered_df['to_year'] <= 10)]\n",
    "    final_filtered_df = final_filtered_df.drop(columns=['author_year_id'])\n",
    "    return final_filtered_df"
   ]
  },
  {
   "cell_type": "code",
   "execution_count": 16,
   "id": "46f04bda-c70d-4266-aba2-6a29dd204e9b",
   "metadata": {},
   "outputs": [],
   "source": [
    "def filter_authors(df):\n",
    "    # Function to apply the filtering logic to each group\n",
    "    def filter_group(group):\n",
    "        # Sort group by 'year' to ensure chronological processing\n",
    "        group = group.sort_values(by='year')\n",
    "        # Check if all 'to_year' values have 'is_journal' == 0\n",
    "        if group['is_journal'].eq(0).all():\n",
    "            return group\n",
    "        # Check for mixed condition: 'to_year' < 0 with 'is_journal' == 0, then 'is_journal' becomes 1 and stays 1\n",
    "        before_zero = group[group['to_year'] < 0]['is_journal'].eq(0).all()\n",
    "        after_zero = group[group['to_year'] >= 0]['is_journal'].eq(1).all()\n",
    "        if before_zero and after_zero:\n",
    "            # Ensure it does not revert back to 0\n",
    "            if (group['is_journal'].diff() == -1).any():\n",
    "                return None  # Exclude groups that revert back to 0\n",
    "            return group\n",
    "        return None\n",
    "    \n",
    "    # Apply the filter function to each group and drop None results\n",
    "    filtered_groups = [filter_group(group) for _, group in df.groupby('author_id')]\n",
    "    filtered_groups = [group for group in filtered_groups if group is not None]\n",
    "    \n",
    "    # Concatenate the filtered groups back into a DataFrame\n",
    "    if filtered_groups:\n",
    "        return pd.concat(filtered_groups)\n",
    "    else:\n",
    "        return pd.DataFrame(columns=df.columns)"
   ]
  },
  {
   "cell_type": "code",
   "execution_count": 17,
   "id": "31c5f417-896c-4cdd-8522-e54843bea2a6",
   "metadata": {},
   "outputs": [],
   "source": [
    "treated = journal_filtered_sel[journal_filtered_sel.author_id.isin(treated_group_journal_sel.author_id)]\n",
    "treated = treated[['author_id', 'cum_publication_count', 'cum_corresponding_count',\n",
    "       'cum_total_citations', 'cum_funding_count', 'career_stage',\n",
    "       'first_year', 'year', 'first_publish_year', 'to_year','Gender','affiliation_country_codes']]\n",
    "treated['is_journal']=0\n",
    "treated.loc[treated.to_year>=0,'is_journal']=1\n",
    "matched=matched_control_journal_sel\n",
    "matched['is_journal']=0\n",
    "matched_pair=pd.concat([treated,matched],axis=0)\n",
    "matched_pair=matched_pair.sort_values('is_journal',ascending=False)\n",
    "matched_pair=filter_authors_by_publication_window_updated(matched_pair,'year','first_publish_year')\n",
    "matched_pair=matched_pair.sort_values('Gender').drop_duplicates(subset=['author_id','first_publish_year','to_year'])\n",
    "matched_pair=matched_pair.sort_values(['author_id','year'],ascending=True)\n",
    "matched_pair['researcher_id']=matched_pair['author_id'].apply(lambda x: int(x.split('.')[1]))"
   ]
  },
  {
   "cell_type": "code",
   "execution_count": 18,
   "id": "d7a47644-b644-4d75-8159-243e7ba7fcec",
   "metadata": {},
   "outputs": [],
   "source": [
    "filtered_matched_pair = filter_authors(matched_pair)\n",
    "matched_pair_grouped=filter_authors_by_publication_window_updated(filtered_matched_pair,'year','first_publish_year').drop_duplicates()\n",
    "matched_pair_grouped.to_csv('../data/matches/matched_pair_science_grouped_gender_4k.csv',header=True,index=False)"
   ]
  },
  {
   "cell_type": "code",
   "execution_count": 19,
   "id": "9e5ac4e3-8811-45e6-ae3f-e790f06d061e",
   "metadata": {},
   "outputs": [],
   "source": [
    "matched_pair_pnas_grouped_gender_newid=matched_pair_grouped.copy()\n",
    "matched_pair_pnas_grouped_gender_newid['researcher_id']=matched_pair_pnas_grouped_gender_newid['researcher_id'].astype(str)+matched_pair_pnas_grouped_gender_newid['first_publish_year'].astype(str)\n",
    "matched_pair_pnas_grouped_gender_newid.to_csv('../data/matches/matched_pair_science_grouped_gender_newid.csv',header=True,index=False)\n"
   ]
  },
  {
   "cell_type": "code",
   "execution_count": 35,
   "id": "da77ed35-4f00-441e-8e21-bfdf7fcafe0d",
   "metadata": {},
   "outputs": [],
   "source": [
    "corresponding=pd.read_csv('../data/physics_top_authors_gp_0610_corresponding.csv')\n",
    "corresponding_sub=corresponding[corresponding.journal_id=='jour.1346339']"
   ]
  },
  {
   "cell_type": "code",
   "execution_count": 36,
   "id": "979c6685-9a9f-4121-9fe1-9e64d9c08266",
   "metadata": {},
   "outputs": [
    {
     "data": {
      "text/html": [
       "<div>\n",
       "<style scoped>\n",
       "    .dataframe tbody tr th:only-of-type {\n",
       "        vertical-align: middle;\n",
       "    }\n",
       "\n",
       "    .dataframe tbody tr th {\n",
       "        vertical-align: top;\n",
       "    }\n",
       "\n",
       "    .dataframe thead th {\n",
       "        text-align: right;\n",
       "    }\n",
       "</style>\n",
       "<table border=\"1\" class=\"dataframe\">\n",
       "  <thead>\n",
       "    <tr style=\"text-align: right;\">\n",
       "      <th></th>\n",
       "      <th>author_id</th>\n",
       "      <th>author_first_name</th>\n",
       "      <th>author_last_name</th>\n",
       "      <th>journal_id</th>\n",
       "      <th>journal_title</th>\n",
       "      <th>is_corresponding</th>\n",
       "      <th>first_publish_year</th>\n",
       "    </tr>\n",
       "  </thead>\n",
       "  <tbody>\n",
       "    <tr>\n",
       "      <th>46</th>\n",
       "      <td>ur.0777763726.43</td>\n",
       "      <td>Kenneth P.</td>\n",
       "      <td>Murphy</td>\n",
       "      <td>jour.1346339</td>\n",
       "      <td>Science</td>\n",
       "      <td>False</td>\n",
       "      <td>1990</td>\n",
       "    </tr>\n",
       "    <tr>\n",
       "      <th>56</th>\n",
       "      <td>ur.0777761054.61</td>\n",
       "      <td>Arnold J. M.</td>\n",
       "      <td>Driessen</td>\n",
       "      <td>jour.1346339</td>\n",
       "      <td>Science</td>\n",
       "      <td>False</td>\n",
       "      <td>2007</td>\n",
       "    </tr>\n",
       "    <tr>\n",
       "      <th>98</th>\n",
       "      <td>ur.0777750503.75</td>\n",
       "      <td>Anne</td>\n",
       "      <td>Thoul</td>\n",
       "      <td>jour.1346339</td>\n",
       "      <td>Science</td>\n",
       "      <td>False</td>\n",
       "      <td>2008</td>\n",
       "    </tr>\n",
       "    <tr>\n",
       "      <th>99</th>\n",
       "      <td>ur.0777750503.75</td>\n",
       "      <td>A.</td>\n",
       "      <td>Thoul</td>\n",
       "      <td>jour.1346339</td>\n",
       "      <td>Science</td>\n",
       "      <td>False</td>\n",
       "      <td>2003</td>\n",
       "    </tr>\n",
       "    <tr>\n",
       "      <th>152</th>\n",
       "      <td>ur.07777344557.98</td>\n",
       "      <td>J F</td>\n",
       "      <td>Chang</td>\n",
       "      <td>jour.1346339</td>\n",
       "      <td>Science</td>\n",
       "      <td>False</td>\n",
       "      <td>2023</td>\n",
       "    </tr>\n",
       "  </tbody>\n",
       "</table>\n",
       "</div>"
      ],
      "text/plain": [
       "             author_id author_first_name author_last_name    journal_id  \\\n",
       "46    ur.0777763726.43        Kenneth P.           Murphy  jour.1346339   \n",
       "56    ur.0777761054.61      Arnold J. M.         Driessen  jour.1346339   \n",
       "98    ur.0777750503.75              Anne            Thoul  jour.1346339   \n",
       "99    ur.0777750503.75                A.            Thoul  jour.1346339   \n",
       "152  ur.07777344557.98               J F            Chang  jour.1346339   \n",
       "\n",
       "    journal_title  is_corresponding  first_publish_year  \n",
       "46        Science             False                1990  \n",
       "56        Science             False                2007  \n",
       "98        Science             False                2008  \n",
       "99        Science             False                2003  \n",
       "152       Science             False                2023  "
      ]
     },
     "execution_count": 36,
     "metadata": {},
     "output_type": "execute_result"
    }
   ],
   "source": [
    "corresponding_sub.head()"
   ]
  },
  {
   "cell_type": "code",
   "execution_count": 37,
   "id": "ef7e2473-321b-4945-a8f5-fd1b426bdaa4",
   "metadata": {},
   "outputs": [
    {
     "data": {
      "text/plain": [
       "is_corresponding\n",
       "False    57459\n",
       "True        10\n",
       "dtype: int64"
      ]
     },
     "execution_count": 37,
     "metadata": {},
     "output_type": "execute_result"
    }
   ],
   "source": [
    "corresponding_sub.value_counts('is_corresponding')"
   ]
  },
  {
   "cell_type": "code",
   "execution_count": 21,
   "id": "844bc036-5af8-4f1a-876f-a7c476b01efb",
   "metadata": {},
   "outputs": [
    {
     "data": {
      "text/plain": [
       "(155680, 14)"
      ]
     },
     "execution_count": 21,
     "metadata": {},
     "output_type": "execute_result"
    }
   ],
   "source": [
    "matched_pair_pnas_grouped_gender_newid.shape"
   ]
  },
  {
   "cell_type": "code",
   "execution_count": 26,
   "id": "097909bc-dec5-46c7-833b-690450dde164",
   "metadata": {},
   "outputs": [
    {
     "data": {
      "text/html": [
       "<div>\n",
       "<style scoped>\n",
       "    .dataframe tbody tr th:only-of-type {\n",
       "        vertical-align: middle;\n",
       "    }\n",
       "\n",
       "    .dataframe tbody tr th {\n",
       "        vertical-align: top;\n",
       "    }\n",
       "\n",
       "    .dataframe thead th {\n",
       "        text-align: right;\n",
       "    }\n",
       "</style>\n",
       "<table border=\"1\" class=\"dataframe\">\n",
       "  <thead>\n",
       "    <tr style=\"text-align: right;\">\n",
       "      <th></th>\n",
       "      <th>author_id</th>\n",
       "      <th>cum_publication_count</th>\n",
       "      <th>cum_corresponding_count</th>\n",
       "      <th>cum_total_citations</th>\n",
       "      <th>cum_funding_count</th>\n",
       "      <th>career_stage</th>\n",
       "      <th>first_year</th>\n",
       "      <th>year</th>\n",
       "      <th>first_publish_year</th>\n",
       "      <th>to_year</th>\n",
       "      <th>Gender</th>\n",
       "      <th>affiliation_country_codes</th>\n",
       "      <th>is_journal</th>\n",
       "      <th>researcher_id</th>\n",
       "    </tr>\n",
       "  </thead>\n",
       "  <tbody>\n",
       "    <tr>\n",
       "      <th>29616</th>\n",
       "      <td>ur.0100000521.21</td>\n",
       "      <td>11.0</td>\n",
       "      <td>0.0</td>\n",
       "      <td>257.0</td>\n",
       "      <td>0.0</td>\n",
       "      <td>late-career</td>\n",
       "      <td>1965</td>\n",
       "      <td>1995</td>\n",
       "      <td>2000</td>\n",
       "      <td>-5</td>\n",
       "      <td>0</td>\n",
       "      <td>GB</td>\n",
       "      <td>0</td>\n",
       "      <td>1000005212000</td>\n",
       "    </tr>\n",
       "    <tr>\n",
       "      <th>29617</th>\n",
       "      <td>ur.0100000521.21</td>\n",
       "      <td>11.0</td>\n",
       "      <td>0.0</td>\n",
       "      <td>267.0</td>\n",
       "      <td>0.0</td>\n",
       "      <td>late-career</td>\n",
       "      <td>1965</td>\n",
       "      <td>1996</td>\n",
       "      <td>2000</td>\n",
       "      <td>-4</td>\n",
       "      <td>0</td>\n",
       "      <td>GB</td>\n",
       "      <td>0</td>\n",
       "      <td>1000005212000</td>\n",
       "    </tr>\n",
       "    <tr>\n",
       "      <th>29618</th>\n",
       "      <td>ur.0100000521.21</td>\n",
       "      <td>11.0</td>\n",
       "      <td>0.0</td>\n",
       "      <td>278.0</td>\n",
       "      <td>0.0</td>\n",
       "      <td>late-career</td>\n",
       "      <td>1965</td>\n",
       "      <td>1997</td>\n",
       "      <td>2000</td>\n",
       "      <td>-3</td>\n",
       "      <td>0</td>\n",
       "      <td>GB</td>\n",
       "      <td>0</td>\n",
       "      <td>1000005212000</td>\n",
       "    </tr>\n",
       "    <tr>\n",
       "      <th>29619</th>\n",
       "      <td>ur.0100000521.21</td>\n",
       "      <td>11.0</td>\n",
       "      <td>0.0</td>\n",
       "      <td>287.0</td>\n",
       "      <td>0.0</td>\n",
       "      <td>late-career</td>\n",
       "      <td>1965</td>\n",
       "      <td>1998</td>\n",
       "      <td>2000</td>\n",
       "      <td>-2</td>\n",
       "      <td>0</td>\n",
       "      <td>GB</td>\n",
       "      <td>0</td>\n",
       "      <td>1000005212000</td>\n",
       "    </tr>\n",
       "    <tr>\n",
       "      <th>29620</th>\n",
       "      <td>ur.0100000521.21</td>\n",
       "      <td>11.0</td>\n",
       "      <td>0.0</td>\n",
       "      <td>295.0</td>\n",
       "      <td>0.0</td>\n",
       "      <td>late-career</td>\n",
       "      <td>1965</td>\n",
       "      <td>1999</td>\n",
       "      <td>2000</td>\n",
       "      <td>-1</td>\n",
       "      <td>0</td>\n",
       "      <td>GB</td>\n",
       "      <td>0</td>\n",
       "      <td>1000005212000</td>\n",
       "    </tr>\n",
       "  </tbody>\n",
       "</table>\n",
       "</div>"
      ],
      "text/plain": [
       "              author_id  cum_publication_count  cum_corresponding_count  \\\n",
       "29616  ur.0100000521.21                   11.0                      0.0   \n",
       "29617  ur.0100000521.21                   11.0                      0.0   \n",
       "29618  ur.0100000521.21                   11.0                      0.0   \n",
       "29619  ur.0100000521.21                   11.0                      0.0   \n",
       "29620  ur.0100000521.21                   11.0                      0.0   \n",
       "\n",
       "       cum_total_citations  cum_funding_count career_stage  first_year  year  \\\n",
       "29616                257.0                0.0  late-career        1965  1995   \n",
       "29617                267.0                0.0  late-career        1965  1996   \n",
       "29618                278.0                0.0  late-career        1965  1997   \n",
       "29619                287.0                0.0  late-career        1965  1998   \n",
       "29620                295.0                0.0  late-career        1965  1999   \n",
       "\n",
       "       first_publish_year  to_year  Gender affiliation_country_codes  \\\n",
       "29616                2000       -5       0                        GB   \n",
       "29617                2000       -4       0                        GB   \n",
       "29618                2000       -3       0                        GB   \n",
       "29619                2000       -2       0                        GB   \n",
       "29620                2000       -1       0                        GB   \n",
       "\n",
       "       is_journal  researcher_id  \n",
       "29616           0  1000005212000  \n",
       "29617           0  1000005212000  \n",
       "29618           0  1000005212000  \n",
       "29619           0  1000005212000  \n",
       "29620           0  1000005212000  "
      ]
     },
     "execution_count": 26,
     "metadata": {},
     "output_type": "execute_result"
    }
   ],
   "source": [
    "matched_pair_pnas_grouped_gender_newid.head()"
   ]
  },
  {
   "cell_type": "code",
   "execution_count": 29,
   "id": "fb5deba4-c960-4416-bc4d-0cab92a900f4",
   "metadata": {},
   "outputs": [],
   "source": [
    "a=pd.merge(matched_pair_pnas_grouped_gender_newid,corresponding_sub[[\n",
    "    'author_id','first_publish_year','is_corresponding']],how='left',on=['author_id','first_publish_year'])\n",
    "a=a.fillna(False)"
   ]
  },
  {
   "cell_type": "code",
   "execution_count": 30,
   "id": "ef475929-921a-46b0-ae2f-0f345cfa6d1b",
   "metadata": {},
   "outputs": [
    {
     "data": {
      "text/plain": [
       "is_corresponding\n",
       "False    156512\n",
       "dtype: int64"
      ]
     },
     "execution_count": 30,
     "metadata": {},
     "output_type": "execute_result"
    }
   ],
   "source": [
    "a.value_counts('is_corresponding')"
   ]
  },
  {
   "cell_type": "markdown",
   "id": "81c329a0-9b81-4bec-91b4-2eaffd88ffd2",
   "metadata": {},
   "source": [
    "## Consider first/last authors"
   ]
  },
  {
   "cell_type": "code",
   "execution_count": 8,
   "id": "557d00fd-514c-4caa-8a1b-6f409f094f23",
   "metadata": {},
   "outputs": [],
   "source": [
    "import pandas as pd\n",
    "import glob\n",
    "\n",
    "path = '../data/authorship/all_first/*.csv'\n",
    "all_files = glob.glob(path)\n",
    "column_names = ['id', 'doi', 'title', 'first_name', 'last_name', 'researcher_id', \n",
    "                'is_corresponding', 'is_first', 'journal_id', 'journal_title', 'year']\n",
    "df_combined_first = pd.concat(\n",
    "    (pd.read_csv(file, header=None, names=column_names) for file in all_files),\n",
    "    ignore_index=True\n",
    ")"
   ]
  },
  {
   "cell_type": "code",
   "execution_count": 11,
   "id": "c3c26553-9632-4a2b-8038-91ba3c2baefc",
   "metadata": {},
   "outputs": [],
   "source": [
    "df_combined_first.to_csv('../data/df_combined_first.csv',header=True,index=False)"
   ]
  },
  {
   "cell_type": "code",
   "execution_count": 9,
   "id": "ee7126ef-abfc-4256-9b56-bb21acc3788f",
   "metadata": {},
   "outputs": [
    {
     "data": {
      "text/html": [
       "<div>\n",
       "<style scoped>\n",
       "    .dataframe tbody tr th:only-of-type {\n",
       "        vertical-align: middle;\n",
       "    }\n",
       "\n",
       "    .dataframe tbody tr th {\n",
       "        vertical-align: top;\n",
       "    }\n",
       "\n",
       "    .dataframe thead th {\n",
       "        text-align: right;\n",
       "    }\n",
       "</style>\n",
       "<table border=\"1\" class=\"dataframe\">\n",
       "  <thead>\n",
       "    <tr style=\"text-align: right;\">\n",
       "      <th></th>\n",
       "      <th>id</th>\n",
       "      <th>doi</th>\n",
       "      <th>title</th>\n",
       "      <th>first_name</th>\n",
       "      <th>last_name</th>\n",
       "      <th>researcher_id</th>\n",
       "      <th>is_corresponding</th>\n",
       "      <th>is_first</th>\n",
       "      <th>journal_id</th>\n",
       "      <th>journal_title</th>\n",
       "      <th>year</th>\n",
       "    </tr>\n",
       "  </thead>\n",
       "  <tbody>\n",
       "    <tr>\n",
       "      <th>0</th>\n",
       "      <td>pub.1150576243</td>\n",
       "      <td>10.1080/00150193.2022.2079463</td>\n",
       "      <td>AuNPs labeled antisera improve the visualizati...</td>\n",
       "      <td>Shu</td>\n",
       "      <td>Jiang</td>\n",
       "      <td>ur.016367506242.97</td>\n",
       "      <td>False</td>\n",
       "      <td>1</td>\n",
       "      <td>jour.1045310</td>\n",
       "      <td>Ferroelectrics</td>\n",
       "      <td>2022.0</td>\n",
       "    </tr>\n",
       "    <tr>\n",
       "      <th>1</th>\n",
       "      <td>pub.1157121999</td>\n",
       "      <td>10.25130/tjps.v23i3.510</td>\n",
       "      <td>Study the Spectral Properties of the Molecule ...</td>\n",
       "      <td>NaN</td>\n",
       "      <td>Galsan T. Kamal</td>\n",
       "      <td>NaN</td>\n",
       "      <td>False</td>\n",
       "      <td>1</td>\n",
       "      <td>jour.1301866</td>\n",
       "      <td>Tikrit Journal of Pure Science</td>\n",
       "      <td>2018.0</td>\n",
       "    </tr>\n",
       "    <tr>\n",
       "      <th>2</th>\n",
       "      <td>pub.1164371987</td>\n",
       "      <td>10.1103/physrevd.108.050001</td>\n",
       "      <td>Editorial: To Review Is to Be</td>\n",
       "      <td>Randall D.</td>\n",
       "      <td>Kamien</td>\n",
       "      <td>ur.01342711413.09</td>\n",
       "      <td>False</td>\n",
       "      <td>1</td>\n",
       "      <td>jour.1320496</td>\n",
       "      <td>Physical Review D</td>\n",
       "      <td>2023.0</td>\n",
       "    </tr>\n",
       "    <tr>\n",
       "      <th>3</th>\n",
       "      <td>pub.1156092598</td>\n",
       "      <td>10.48550/arxiv.2303.04982</td>\n",
       "      <td>The Robustness Verification of Linear Sound Qu...</td>\n",
       "      <td>Su</td>\n",
       "      <td>Bonan</td>\n",
       "      <td>NaN</td>\n",
       "      <td>False</td>\n",
       "      <td>1</td>\n",
       "      <td>jour.1371339</td>\n",
       "      <td>arXiv</td>\n",
       "      <td>2023.0</td>\n",
       "    </tr>\n",
       "    <tr>\n",
       "      <th>4</th>\n",
       "      <td>pub.1142418768</td>\n",
       "      <td>10.4236/ojer.2021.104009</td>\n",
       "      <td>Magnetic Control of the Earthquakes</td>\n",
       "      <td>L. Buchachenko</td>\n",
       "      <td>A.</td>\n",
       "      <td>NaN</td>\n",
       "      <td>False</td>\n",
       "      <td>1</td>\n",
       "      <td>jour.1151234</td>\n",
       "      <td>Open Journal of Earthquake Research</td>\n",
       "      <td>2021.0</td>\n",
       "    </tr>\n",
       "  </tbody>\n",
       "</table>\n",
       "</div>"
      ],
      "text/plain": [
       "               id                            doi  \\\n",
       "0  pub.1150576243  10.1080/00150193.2022.2079463   \n",
       "1  pub.1157121999        10.25130/tjps.v23i3.510   \n",
       "2  pub.1164371987    10.1103/physrevd.108.050001   \n",
       "3  pub.1156092598      10.48550/arxiv.2303.04982   \n",
       "4  pub.1142418768       10.4236/ojer.2021.104009   \n",
       "\n",
       "                                               title      first_name  \\\n",
       "0  AuNPs labeled antisera improve the visualizati...             Shu   \n",
       "1  Study the Spectral Properties of the Molecule ...             NaN   \n",
       "2                      Editorial: To Review Is to Be      Randall D.   \n",
       "3  The Robustness Verification of Linear Sound Qu...              Su   \n",
       "4                Magnetic Control of the Earthquakes  L. Buchachenko   \n",
       "\n",
       "         last_name       researcher_id  is_corresponding  is_first  \\\n",
       "0            Jiang  ur.016367506242.97             False         1   \n",
       "1  Galsan T. Kamal                 NaN             False         1   \n",
       "2           Kamien   ur.01342711413.09             False         1   \n",
       "3            Bonan                 NaN             False         1   \n",
       "4               A.                 NaN             False         1   \n",
       "\n",
       "     journal_id                        journal_title    year  \n",
       "0  jour.1045310                       Ferroelectrics  2022.0  \n",
       "1  jour.1301866       Tikrit Journal of Pure Science  2018.0  \n",
       "2  jour.1320496                    Physical Review D  2023.0  \n",
       "3  jour.1371339                                arXiv  2023.0  \n",
       "4  jour.1151234  Open Journal of Earthquake Research  2021.0  "
      ]
     },
     "execution_count": 9,
     "metadata": {},
     "output_type": "execute_result"
    }
   ],
   "source": [
    "df_combined_first.head()"
   ]
  },
  {
   "cell_type": "code",
   "execution_count": 13,
   "id": "48bc2923-e312-49c2-8b35-e5c8739966ff",
   "metadata": {},
   "outputs": [],
   "source": [
    "path = '../data/authorship/all_last/*.csv'\n",
    "all_files = glob.glob(path)\n",
    "column_names = ['id', 'doi', 'title', 'first_name', 'last_name', 'researcher_id', \n",
    "                'is_corresponding', 'is_last', 'journal_id', 'journal_title', 'year']\n",
    "df_combined_last = pd.concat(\n",
    "    (pd.read_csv(file, header=None, names=column_names) for file in all_files),\n",
    "    ignore_index=True\n",
    ")"
   ]
  },
  {
   "cell_type": "code",
   "execution_count": 14,
   "id": "d0545712-0cce-46b1-a6b9-80a4b315bfd2",
   "metadata": {},
   "outputs": [],
   "source": [
    "df_combined_last.to_csv('../data/df_combined_last.csv',header=True,index=False)"
   ]
  },
  {
   "cell_type": "markdown",
   "id": "bdc3f0c4-378f-4671-9b53-d9c31a4ec913",
   "metadata": {},
   "source": [
    "## first/last authors"
   ]
  },
  {
   "cell_type": "code",
   "execution_count": 3,
   "id": "01f0ba94-01e1-4b12-bc85-2e2acba82402",
   "metadata": {},
   "outputs": [],
   "source": [
    "matched_pair_pnas_grouped_gender_newid=pd.read_csv('../data/matches/matched_pair_science_grouped_gender_newid.csv')"
   ]
  },
  {
   "cell_type": "code",
   "execution_count": 4,
   "id": "3a74202e-d6f3-4ebd-88ee-5112d1aea275",
   "metadata": {},
   "outputs": [],
   "source": [
    "first=pd.read_csv('../data/df_combined_first.csv')\n",
    "last=pd.read_csv('../data/df_combined_last.csv')\n",
    "first_sub=first[first.journal_id=='jour.1346339']\n",
    "first_sub.value_counts('is_first')\n",
    "first_sub.columns=['id', 'doi', 'title', 'first_name', 'last_name', 'author_id',\n",
    "       'is_corresponding', 'is_first', 'journal_id', 'journal_title',\n",
    "                   'first_publish_year']\n",
    "\n",
    "last_sub=last[last.journal_id=='jour.1346339']\n",
    "last_sub.value_counts('is_last')\n",
    "last_sub.columns=['id', 'doi', 'title', 'first_name', 'last_name', 'author_id',\n",
    "       'is_corresponding', 'is_last', 'journal_id', 'journal_title',\n",
    "                   'first_publish_year']"
   ]
  },
  {
   "cell_type": "code",
   "execution_count": 5,
   "id": "51a233e1-6910-4a1b-a2ca-7ed067f18f57",
   "metadata": {},
   "outputs": [
    {
     "data": {
      "text/plain": [
       "is_first\n",
       "0.0    147104\n",
       "1.0      8576\n",
       "dtype: int64"
      ]
     },
     "execution_count": 5,
     "metadata": {},
     "output_type": "execute_result"
    }
   ],
   "source": [
    "a=pd.merge(matched_pair_pnas_grouped_gender_newid,first_sub[[\n",
    "    'author_id','first_publish_year','is_first']].drop_duplicates(\n",
    "    subset=['author_id','first_publish_year']),\n",
    "           how='left',on=['author_id','first_publish_year'])\n",
    "a=a.fillna(0)\n",
    "a=a.sort_values('is_first',ascending=False).drop_duplicates(['researcher_id','to_year'])\n",
    "a.to_csv('../data/matches/matched_pair_science_grouped_gender_first.csv',header=True,index=False)\n",
    "a.value_counts('is_first')"
   ]
  },
  {
   "cell_type": "code",
   "execution_count": 6,
   "id": "567cf898-d732-4ba7-bf1a-d322bde4cf31",
   "metadata": {},
   "outputs": [
    {
     "data": {
      "text/plain": [
       "is_last\n",
       "0.0    149664\n",
       "1.0      6016\n",
       "dtype: int64"
      ]
     },
     "execution_count": 6,
     "metadata": {},
     "output_type": "execute_result"
    }
   ],
   "source": [
    "b=pd.merge(matched_pair_pnas_grouped_gender_newid,last_sub[[\n",
    "    'author_id','first_publish_year','is_last']].drop_duplicates(\n",
    "    subset=['author_id','first_publish_year']),\n",
    "           how='left',on=['author_id','first_publish_year'])\n",
    "b=b.fillna(0)\n",
    "b=b.sort_values('is_last',ascending=False).drop_duplicates(['researcher_id','to_year'])\n",
    "b.to_csv('../data/matches/matched_pair_science_grouped_gender_last.csv',header=True,index=False)\n",
    "b.value_counts('is_last')"
   ]
  },
  {
   "cell_type": "code",
   "execution_count": null,
   "id": "4a189c9a-79b5-4c50-973a-586991aeb434",
   "metadata": {},
   "outputs": [],
   "source": []
  }
 ],
 "metadata": {
  "kernelspec": {
   "display_name": "Python 3 (ipykernel)",
   "language": "python",
   "name": "python3"
  },
  "language_info": {
   "codemirror_mode": {
    "name": "ipython",
    "version": 3
   },
   "file_extension": ".py",
   "mimetype": "text/x-python",
   "name": "python",
   "nbconvert_exporter": "python",
   "pygments_lexer": "ipython3",
   "version": "3.9.12"
  }
 },
 "nbformat": 4,
 "nbformat_minor": 5
}
